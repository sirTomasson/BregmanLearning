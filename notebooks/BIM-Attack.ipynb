{
 "cells": [
  {
   "cell_type": "code",
   "execution_count": 1,
   "id": "initial_id",
   "metadata": {
    "ExecuteTime": {
     "end_time": "2024-01-19T11:04:12.846014Z",
     "start_time": "2024-01-19T11:04:12.835036Z"
    },
    "tags": []
   },
   "outputs": [],
   "source": [
    "# Various torch packages\n",
    "import torch\n",
    "import torch.nn as nn\n",
    "import torch.nn.functional as F\n",
    "\n",
    "# torchvision\n",
    "from torchvision import datasets, transforms\n",
    "\n",
    "# ------------------------\n",
    "# get up one directory \n",
    "import sys, os\n",
    "sys.path.append(os.path.abspath('../'))\n",
    "# ------------------------\n",
    "\n",
    "# custom packages\n",
    "import matplotlib.pyplot as plt\n",
    "import models.aux_funs as maf\n",
    "import optimizers as op\n",
    "import regularizers as reg\n",
    "import train\n",
    "import math\n",
    "import utils.configuration as cf\n",
    "import utils.datasets as ud\n",
    "import pandas as pd\n",
    "from utils.visualise import visualize_layer_weights\n",
    "from models.mnist_conv import mnist_conv\n",
    "from models.aux_funs import net_sparsity\n",
    "\n",
    "import numpy as np"
   ]
  },
  {
   "cell_type": "markdown",
   "id": "5d6564382bc1d7c5",
   "metadata": {
    "user_expressions": []
   },
   "source": [
    "# Fix the random seed"
   ]
  },
  {
   "cell_type": "code",
   "execution_count": 2,
   "id": "7c8b7cf7342bd2e5",
   "metadata": {
    "ExecuteTime": {
     "end_time": "2024-01-19T11:03:22.998686Z",
     "start_time": "2024-01-19T11:03:22.992987Z"
    },
    "collapsed": false,
    "tags": []
   },
   "outputs": [],
   "source": [
    "random_seed = 2\n",
    "cf.seed_torch(random_seed)"
   ]
  },
  {
   "cell_type": "markdown",
   "id": "9d03849b632d66e8",
   "metadata": {
    "user_expressions": []
   },
   "source": [
    "# Configure the expirement"
   ]
  },
  {
   "cell_type": "code",
   "execution_count": 3,
   "id": "e85149248594b363",
   "metadata": {
    "ExecuteTime": {
     "end_time": "2024-01-19T11:04:35.543154Z",
     "start_time": "2024-01-19T11:04:35.527593Z"
    },
    "collapsed": false,
    "tags": []
   },
   "outputs": [],
   "source": [
    "# weights_path = '../ProbMask/runs/mnist_conv_fashion_mnist-pr0.1/probmask/prune_rate=0.9/checkpoints/epoch_29.state'\n",
    "weights_path = '../checkpoints/mnist_conv_sparse_linbreg_ggmodel_lambda_4.pth'\n",
    "sparse_weights_path = weights_path\n",
    "dense_weights_path = '../checkpoints/mnist_conv_dense.pth'\n",
    "conf_args = {#\n",
    "    # data specification\n",
    "    'data_file':\"../../Data\",'train_split':0.95, 'data_set':\"Fashion-MNIST\", 'download':True,\n",
    "    # cuda\n",
    "    'use_cuda':False, 'num_workers':0, 'cuda_device':0, 'pin_memory':True,\n",
    "    #\n",
    "    'epochs':100,\n",
    "    # optimizer\n",
    "    'delta':1.0, 'lr':0.07, 'lamda_0':0.4, 'lamda_1':0.4, 'optim':\"AdaBreg\", 'conv_group':True,\n",
    "    'beta':0.0,\n",
    "    # initialization\n",
    "    'sparse_init':0.01, 'r':[1,1,1],\n",
    "    # misc\n",
    "    'random_seed':random_seed, 'eval_acc':True,\n",
    "    'batch_size': 1000\n",
    "}\n",
    "\n",
    "conf = cf.Conf(**conf_args)"
   ]
  },
  {
   "cell_type": "markdown",
   "id": "4a858eaf9a94a98b",
   "metadata": {
    "user_expressions": []
   },
   "source": [
    "# Initiate model"
   ]
  },
  {
   "cell_type": "code",
   "execution_count": 4,
   "id": "39b9a09a18024f11",
   "metadata": {
    "ExecuteTime": {
     "end_time": "2024-01-19T11:04:36.865202Z",
     "start_time": "2024-01-19T11:04:36.849680Z"
    },
    "collapsed": false,
    "tags": []
   },
   "outputs": [],
   "source": [
    "model_kwargs = {'mean':conf.data_set_mean, 'std':conf.data_set_std}    \n",
    "\n",
    "model = mnist_conv(**model_kwargs).to(conf.device)"
   ]
  },
  {
   "cell_type": "markdown",
   "id": "387de92edcc89be6",
   "metadata": {
    "user_expressions": []
   },
   "source": [
    "# Load model weights"
   ]
  },
  {
   "cell_type": "code",
   "execution_count": 5,
   "id": "40a31784a2d47495",
   "metadata": {
    "ExecuteTime": {
     "end_time": "2024-01-19T11:04:38.683777Z",
     "start_time": "2024-01-19T11:04:38.667844Z"
    },
    "collapsed": false,
    "tags": []
   },
   "outputs": [
    {
     "data": {
      "text/plain": [
       "mnist_conv(\n",
       "  (act_fn): ReLU()\n",
       "  (layers1): Sequential(\n",
       "    (0): Conv2d(1, 64, kernel_size=(5, 5), stride=(1, 1))\n",
       "    (1): MaxPool2d(kernel_size=2, stride=2, padding=0, dilation=1, ceil_mode=False)\n",
       "    (2): ReLU()\n",
       "    (3): Conv2d(64, 64, kernel_size=(5, 5), stride=(1, 1))\n",
       "    (4): MaxPool2d(kernel_size=2, stride=2, padding=0, dilation=1, ceil_mode=False)\n",
       "    (5): ReLU()\n",
       "    (6): Flatten(start_dim=1, end_dim=-1)\n",
       "  )\n",
       "  (layers2): Sequential(\n",
       "    (0): Linear(in_features=1024, out_features=128, bias=True)\n",
       "    (1): ReLU()\n",
       "    (2): Linear(in_features=128, out_features=10, bias=True)\n",
       "  )\n",
       ")"
      ]
     },
     "execution_count": 5,
     "metadata": {},
     "output_type": "execute_result"
    }
   ],
   "source": [
    "def remove_module_prefix(state_dict):\n",
    "    new_state_dict = {}\n",
    "    for key in state_dict.keys():\n",
    "        new_key = key.replace('module.', '')  # Remove the 'module.' prefix\n",
    "        new_state_dict[new_key] = state_dict[key]\n",
    "    return new_state_dict\n",
    "\n",
    "\n",
    "model_weights = torch.load(weights_path, map_location=conf.device)\n",
    "# model_weights = remove_module_prefix(model_weights['state_dict'])\n",
    "\n",
    "# Apply the weights\n",
    "\n",
    "model.load_state_dict(model_weights)\n",
    "\n",
    "model"
   ]
  },
  {
   "cell_type": "markdown",
   "id": "af4189bc3d9fe2ed",
   "metadata": {
    "user_expressions": []
   },
   "source": [
    "# Dataset"
   ]
  },
  {
   "cell_type": "code",
   "execution_count": 6,
   "id": "23394f070beb067f",
   "metadata": {
    "ExecuteTime": {
     "end_time": "2024-01-19T11:04:40.643690Z",
     "start_time": "2024-01-19T11:04:40.580086Z"
    },
    "collapsed": false,
    "tags": []
   },
   "outputs": [],
   "source": [
    "train_loader, valid_loader, test_loader = ud.get_data_set(conf)"
   ]
  },
  {
   "cell_type": "markdown",
   "id": "50428ae03114180b",
   "metadata": {
    "user_expressions": []
   },
   "source": [
    "# Show the model works"
   ]
  },
  {
   "cell_type": "code",
   "execution_count": 7,
   "id": "3656f440c199794",
   "metadata": {
    "ExecuteTime": {
     "end_time": "2024-01-19T11:04:42.995941Z",
     "start_time": "2024-01-19T11:04:41.391813Z"
    },
    "collapsed": false,
    "tags": []
   },
   "outputs": [
    {
     "name": "stdout",
     "output_type": "stream",
     "text": [
      "--------------------------------------------------\n",
      "Test Accuracy: 0.8337\n"
     ]
    },
    {
     "data": {
      "text/plain": [
       "{'acc': 0.8337, 'loss': 4.6285044848918915}"
      ]
     },
     "execution_count": 7,
     "metadata": {},
     "output_type": "execute_result"
    }
   ],
   "source": [
    "train.test(conf, model, test_loader)"
   ]
  },
  {
   "cell_type": "code",
   "execution_count": 8,
   "id": "3feb13b87b7ff353",
   "metadata": {
    "ExecuteTime": {
     "end_time": "2024-01-19T11:04:46.473792Z",
     "start_time": "2024-01-19T11:04:46.470338Z"
    },
    "collapsed": false,
    "tags": []
   },
   "outputs": [
    {
     "data": {
      "text/plain": [
       "0.018777078256160304"
      ]
     },
     "execution_count": 8,
     "metadata": {},
     "output_type": "execute_result"
    }
   ],
   "source": [
    "net_sparsity(model)"
   ]
  },
  {
   "cell_type": "code",
   "execution_count": 9,
   "id": "15ee4cad-8bec-4ef8-a017-724addf4952b",
   "metadata": {
    "tags": []
   },
   "outputs": [
    {
     "name": "stdout",
     "output_type": "stream",
     "text": [
      "64\n"
     ]
    },
    {
     "data": {
      "image/png": "[encoded data removed]",
      "text/plain": [
       "<Figure size 500x1280 with 2 Axes>"
      ]
     },
     "metadata": {},
     "output_type": "display_data"
    }
   ],
   "source": [
    "\n",
    "def visualize_layer_weights(layer):\n",
    "    # Extracting the layer weights\n",
    "    layer_weights = layer.weight.data\n",
    "    layer_weights = layer_weights.view(layer_weights.shape[0], -1)\n",
    "\n",
    "    # Converting the tensor to numpy for visualization\n",
    "    layer_weights_np = layer_weights.cpu().numpy()\n",
    "    print(len(layer_weights_np))\n",
    "\n",
    "    layer_weights_np = np.abs(layer_weights_np)\n",
    "    height, width = layer_weights_np.shape\n",
    "    \n",
    "#     layer_weights_np[np.where(layer_weights_np == 0)] = 1\n",
    "    \n",
    "#     print(np.count_nonzero(layer_weights_np == 1))\n",
    "    plt.figure(figsize=(width * 20 / 100, height * 20 / 100))\n",
    "    # Plotting the weights\n",
    "    plt.imshow(layer_weights_np, cmap='gray', interpolation='nearest')\n",
    "    plt.colorbar()\n",
    "    plt.title(f\"Weights of layer {layer}\")\n",
    "    plt.xlabel('Neurons')\n",
    "    plt.ylabel('Inputs/Connections')\n",
    "    plt.show()\n",
    "\n",
    "    \n",
    "visualize_layer_weights(model.layers1[0])"
   ]
  },
  {
   "cell_type": "code",
   "execution_count": 10,
   "id": "818fa6bc941ea260",
   "metadata": {
    "ExecuteTime": {
     "end_time": "2024-01-16T11:06:28.644511Z",
     "start_time": "2024-01-16T11:06:19.524596Z"
    },
    "collapsed": false,
    "tags": []
   },
   "outputs": [
    {
     "name": "stdout",
     "output_type": "stream",
     "text": [
      "Init sparsity: 0.01 - Network sparsity: 0.36891162334145683\n",
      "--------------------------------------------------\n",
      "Test Accuracy: 0.1\n",
      "Init sparsity: 0.05 - Network sparsity: 0.4116191104792851\n",
      "--------------------------------------------------\n",
      "Test Accuracy: 0.8099\n",
      "Init sparsity: 0.1 - Network sparsity: 0.42897881126455456\n",
      "--------------------------------------------------\n",
      "Test Accuracy: 0.8144\n",
      "Init sparsity: 0.2 - Network sparsity: 0.466782595450853\n",
      "--------------------------------------------------\n",
      "Test Accuracy: 0.8046\n",
      "Init sparsity: 0.5 - Network sparsity: 0.513120261305172\n",
      "--------------------------------------------------\n",
      "Test Accuracy: 0.7764\n",
      "Init sparsity: 1 - Network sparsity: 0.6241495735174655\n",
      "--------------------------------------------------\n",
      "Test Accuracy: 0.7988\n"
     ]
    }
   ],
   "source": [
    "\n",
    "sparsities = [0.01, 0.05, 0.1, 0.2, 0.5, 1]\n",
    "for sparsity in sparsities:\n",
    "    weights_path = f'../checkpoints/adabreg/mnist_conv_{sparsity}.pth'\n",
    "    model_weights = torch.load(weights_path, map_location=conf.device)\n",
    "\n",
    "    # Apply the weights\n",
    "    model.eval()\n",
    "    model.load_state_dict(model_weights)\n",
    "    nsparsity = net_sparsity(model)\n",
    "\n",
    "    print(f'Init sparsity: {sparsity} - Network sparsity: {nsparsity}')\n",
    "    train.test(conf, model, test_loader)"
   ]
  },
  {
   "cell_type": "markdown",
   "id": "af904133701dae04",
   "metadata": {
    "user_expressions": []
   },
   "source": [
    "# Attack the Model"
   ]
  },
  {
   "cell_type": "code",
   "execution_count": 17,
   "id": "172a420ad5c9150d",
   "metadata": {
    "ExecuteTime": {
     "end_time": "2024-01-19T11:05:48.171407Z",
     "start_time": "2024-01-19T11:05:48.166438Z"
    },
    "collapsed": false,
    "tags": []
   },
   "outputs": [],
   "source": [
    "def bim_attack(model, data, target, eps, alpha, iters):\n",
    "    # Copy the original images to avoid modifying them\n",
    "    adv_images = data.clone().detach().requires_grad_(True)\n",
    "    \n",
    "    # Loop over the number of iterations\n",
    "    for i in range(iters):\n",
    "        # Requires gradient\n",
    "\n",
    "        # Forward pass\n",
    "        outputs = model(adv_images)\n",
    "\n",
    "        model.zero_grad()\n",
    "\n",
    "        # Calculate loss\n",
    "        loss = F.cross_entropy(outputs, target)\n",
    "\n",
    "        # Backward pass\n",
    "        loss.backward()\n",
    "        \n",
    "        # Adversarial example update\n",
    "        with torch.no_grad():\n",
    "            grad = adv_images.grad\n",
    "            if grad is None:\n",
    "                print(f'grad is None at {i}')\n",
    "                continue\n",
    "                \n",
    "            perturbation = alpha * grad.sign()\n",
    "            adv_images = adv_images + perturbation\n",
    "            perturbation = torch.clamp(adv_images - data, min=-eps, max=eps)\n",
    "            adv_images = torch.clamp(data + perturbation, min=0, max=1)\n",
    "            adv_images = adv_images.detach().requires_grad_(True)\n",
    "\n",
    "    return adv_images.detach()\n",
    "\n",
    "def get_batch(loader):\n",
    "    for data, target in loader:\n",
    "        return data, target\n",
    "    \n",
    "    \n",
    "def test_bim(model, data, target, conf, epsilon, alpha):\n",
    "    correct = 0\n",
    "    adv_examples = []\n",
    "    for x, y in zip(data, target):\n",
    "        x, y = x.unsqueeze(0).to(conf.device), y.to(conf.device)\n",
    "        output = model(x)\n",
    "        final_pred = output.max(1, keepdim=True)[1] # get the index of the max log-probability\n",
    "        if final_pred.item() == y.item():\n",
    "            correct += 1\n",
    "        else:\n",
    "            # Save some adv examples for visualization later\n",
    "            if len(adv_examples) < 5:\n",
    "                adv_ex = x.squeeze().detach().cpu().numpy()\n",
    "                adv_examples.append( (y.item(), final_pred.item(), adv_ex) )\n",
    "        \n",
    "    final_acc = correct/float(len(test_loader))\n",
    "    print(f\"Epsilon: {epsilon}\\tTest Accuracy = {correct} / {len(data)} = {final_acc}\")\n",
    "\n",
    "    # Return the accuracy and an adversarial example\n",
    "    return final_acc, adv_examples\n",
    "\n",
    "\n",
    "def fgsm_attack(image, epsilon, data_grad):\n",
    "    # Collect the element-wise sign of the data gradient\n",
    "    sign_data_grad = data_grad.sign()\n",
    "    # Create the perturbed image by adjusting each pixel of the input image\n",
    "    perturbed_image = image + epsilon*sign_data_grad\n",
    "    # Adding clipping to maintain [0,1] range\n",
    "    perturbed_image = torch.clamp(perturbed_image, 0, 1)\n",
    "    # Return the perturbed image\n",
    "    return perturbed_image\n",
    "\n",
    "\n",
    "# restores the tensors to their original scale\n",
    "def denorm(batch, mean=[0.1307], std=[0.3081]):\n",
    "    \"\"\"\n",
    "    Convert a batch of tensors to their original scale.\n",
    "\n",
    "    Args:\n",
    "        batch (torch.Tensor): Batch of normalized tensors.\n",
    "        mean (torch.Tensor or list): Mean used for normalization.\n",
    "        std (torch.Tensor or list): Standard deviation used for normalization.\n",
    "\n",
    "    Returns:\n",
    "        torch.Tensor: batch of tensors without normalization applied to them.\n",
    "    \"\"\"\n",
    "    if isinstance(mean, list):\n",
    "        mean = torch.tensor(mean).to(conf.device)\n",
    "    if isinstance(std, list):\n",
    "        std = torch.tensor(std).to(conf.device)\n",
    "\n",
    "    return batch * std.view(1, -1, 1, 1) + mean.view(1, -1, 1, 1)\n",
    "\n",
    "\n",
    "def test_fgm(model, test_loader, conf, epsilon):\n",
    "\n",
    "    # Accuracy counter\n",
    "    correct = 0\n",
    "    adv_examples = []\n",
    "\n",
    "    # Loop over all examples in test set\n",
    "    x, y = get_batch(test_loader)\n",
    "    for data, target in zip(x, y):\n",
    "\n",
    "        # Send the data and label to the device\n",
    "        data, target = data.unsqueeze(0).to(conf.device), target.unsqueeze(0).to(conf.device)\n",
    "\n",
    "        # Set requires_grad attribute of tensor. Important for Attack\n",
    "        data.requires_grad = True\n",
    "\n",
    "        # Forward pass the data through the model\n",
    "        output = model(data)\n",
    "        init_pred = output.max(1, keepdim=True)[1] # get the index of the max log-probability\n",
    "\n",
    "        # If the initial prediction is wrong, don't bother attacking, just move on\n",
    "        if init_pred.item() != target.item():\n",
    "            continue\n",
    "            \n",
    "        # Calculate the loss \n",
    "        loss = F.nll_loss(output, target)\n",
    "\n",
    "        # Zero all existing gradients\n",
    "        model.zero_grad()\n",
    "\n",
    "        # Calculate gradients of model in backward pass\n",
    "        loss.backward()\n",
    "\n",
    "        # Collect ``datagrad``\n",
    "        data_grad = data.grad.data\n",
    "\n",
    "        # Restore the data to its original scale\n",
    "        data_denorm = denorm(data)\n",
    "\n",
    "        # Call FGSM Attack\n",
    "        perturbed_data = fgsm_attack(data_denorm, epsilon, data_grad)\n",
    "\n",
    "        # Reapply normalization\n",
    "        perturbed_data_normalized = transforms.Normalize((0.1307,), (0.3081,))(perturbed_data)\n",
    "\n",
    "        # Re-classify the perturbed image\n",
    "        output = model(perturbed_data_normalized)\n",
    "\n",
    "        # Check for success\n",
    "        final_pred = output.max(1, keepdim=True)[1] # get the index of the max log-probability\n",
    "        if final_pred.item() == target.item():\n",
    "            correct += 1\n",
    "            # Special case for saving 0 epsilon examples\n",
    "            if epsilon == 0 and len(adv_examples) < 5:\n",
    "                adv_ex = perturbed_data.squeeze().detach().cpu().numpy()\n",
    "                adv_examples.append( (init_pred.item(), final_pred.item(), adv_ex) )\n",
    "        else:\n",
    "            # Save some adv examples for visualization later\n",
    "            if len(adv_examples) < 5:\n",
    "                adv_ex = perturbed_data.squeeze().detach().cpu().numpy()\n",
    "                adv_examples.append( (init_pred.item(), final_pred.item(), adv_ex) )\n",
    "\n",
    "    # Calculate final accuracy for this epsilon\n",
    "    final_acc = correct/float(len(test_loader))\n",
    "    print(f\"Epsilon: {epsilon}\\tTest Accuracy = {correct} / {len(test_loader)} = {final_acc}\")\n",
    "\n",
    "    # Return the accuracy and an adversarial example\n",
    "    return final_acc, adv_examples\n",
    "\n",
    "\n",
    "def load_model(conf, ppath):\n",
    "    model_kwargs = {'mean':conf.data_set_mean, 'std':conf.data_set_std}    \n",
    "\n",
    "    model = mnist_conv(**model_kwargs).to(conf.device)\n",
    "    model_weights = torch.load(ppath, map_location=conf.device)\n",
    "\n",
    "    model.load_state_dict(model_weights)\n",
    "\n",
    "    return model\n"
   ]
  },
  {
   "cell_type": "code",
   "execution_count": 20,
   "id": "0a3419ec-bf41-4a2b-b1b1-e2d45012fb64",
   "metadata": {
    "tags": []
   },
   "outputs": [
    {
     "name": "stdout",
     "output_type": "stream",
     "text": [
      "Init sparsity: mnist_conv_sparse_linbreg_ggmodel_lambda_4.pth - Network sparsity: 0.018777078256160304\n",
      "--------------------------------------------------\n",
      "Test Accuracy: 0.8337\n",
      "Init sparsity: mnist_conv_sparse_linbreg_ggmodel_lambda_5_5pc.pth - Network sparsity: 0.060287198754400216\n",
      "--------------------------------------------------\n",
      "Test Accuracy: 0.8629\n",
      "Init sparsity: mnist_conv_sparse_linbreg_ggmodel_lambda_5_10pc.pth - Network sparsity: 0.10263082182507446\n",
      "--------------------------------------------------\n",
      "Test Accuracy: 0.8613\n",
      "Init sparsity: mnist_conv_sparse_linbreg_ggmodel_lambda_5_20pc.pth - Network sparsity: 0.1829390062279989\n",
      "--------------------------------------------------\n",
      "Test Accuracy: 0.8813\n",
      "Init sparsity: mnist_conv_sparse_linbreg_ggmodel_lambda_5_50pc.pth - Network sparsity: 0.42610174654752236\n",
      "--------------------------------------------------\n",
      "Test Accuracy: 0.8913\n",
      "Init sparsity: mnist_conv_dense.pth - Network sparsity: 1.0\n",
      "--------------------------------------------------\n",
      "Test Accuracy: 0.9072\n"
     ]
    }
   ],
   "source": [
    "base_path = '../checkpoints' \n",
    "\n",
    "models = [('sparse 2%', 'redo_linbreg_2pc.pth'), \n",
    "          ('sparse 5%', 'mnist_conv_sparse_linbreg_ggmodel_lambda_5_5pc.pth'),\n",
    "          ('sparse 10%', 'mnist_conv_sparse_linbreg_ggmodel_lambda_5_10pc.pth'),\n",
    "          ('sparse 20%', 'mnist_conv_sparse_linbreg_ggmodel_lambda_5_20pc.pth'),\n",
    "          ('sparse 40%', 'mnist_conv_sparse_linbreg_ggmodel_lambda_5_50pc.pth'),\n",
    "          ('dense', 'mnist_conv_dense.pth' )]\n",
    "\n",
    "for (name, path) in models:\n",
    "    model = load_model(conf, f'{base_path}/{path}')\n",
    "\n",
    "    nsparsity = net_sparsity(model)\n",
    "\n",
    "    print(f'Init sparsity: {path} - Network sparsity: {nsparsity}')\n",
    "    train.test(conf, model, test_loader)"
   ]
  },
  {
   "cell_type": "code",
   "execution_count": 12,
   "id": "f51787d502121c3a",
   "metadata": {
    "ExecuteTime": {
     "end_time": "2024-01-15T18:57:18.739857Z",
     "start_time": "2024-01-15T18:56:34.577870Z"
    },
    "collapsed": false,
    "tags": []
   },
   "outputs": [
    {
     "name": "stdout",
     "output_type": "stream",
     "text": [
      "Epsilon: 0.0\tTest Accuracy = 852 / 1000 = 85.2\n"
     ]
    },
    {
     "ename": "KeyboardInterrupt",
     "evalue": "",
     "output_type": "error",
     "traceback": [
      "\u001B[0;31m---------------------------------------------------------------------------\u001B[0m",
      "\u001B[0;31mKeyboardInterrupt\u001B[0m                         Traceback (most recent call last)",
      "Cell \u001B[0;32mIn[12], line 23\u001B[0m\n\u001B[1;32m     21\u001B[0m model \u001B[38;5;241m=\u001B[39m load_model(conf, \u001B[38;5;124mf\u001B[39m\u001B[38;5;124m'\u001B[39m\u001B[38;5;132;01m{\u001B[39;00mbase_path\u001B[38;5;132;01m}\u001B[39;00m\u001B[38;5;124m/\u001B[39m\u001B[38;5;132;01m{\u001B[39;00mpath\u001B[38;5;132;01m}\u001B[39;00m\u001B[38;5;124m'\u001B[39m)\n\u001B[1;32m     22\u001B[0m \u001B[38;5;28;01mfor\u001B[39;00m eps \u001B[38;5;129;01min\u001B[39;00m epsilons:\n\u001B[0;32m---> 23\u001B[0m     adv_examples \u001B[38;5;241m=\u001B[39m \u001B[43mbim_attack\u001B[49m\u001B[43m(\u001B[49m\u001B[43mmodel\u001B[49m\u001B[43m,\u001B[49m\u001B[43m \u001B[49m\u001B[43mdata\u001B[49m\u001B[43m,\u001B[49m\u001B[43m \u001B[49m\u001B[43mtarget\u001B[49m\u001B[43m,\u001B[49m\u001B[43m \u001B[49m\u001B[43meps\u001B[49m\u001B[43m,\u001B[49m\u001B[43m \u001B[49m\u001B[43malpha\u001B[49m\u001B[43m,\u001B[49m\u001B[43m \u001B[49m\u001B[43miters\u001B[49m\u001B[43m)\u001B[49m\n\u001B[1;32m     24\u001B[0m     acc, ex \u001B[38;5;241m=\u001B[39m test_bim(model, adv_examples, target, conf, eps, alpha)\n\u001B[1;32m     25\u001B[0m     accuracies[name]\u001B[38;5;241m.\u001B[39mappend(acc)\n",
      "Cell \u001B[0;32mIn[10], line 10\u001B[0m, in \u001B[0;36mbim_attack\u001B[0;34m(model, data, target, eps, alpha, iters)\u001B[0m\n\u001B[1;32m      5\u001B[0m \u001B[38;5;66;03m# Loop over the number of iterations\u001B[39;00m\n\u001B[1;32m      6\u001B[0m \u001B[38;5;28;01mfor\u001B[39;00m i \u001B[38;5;129;01min\u001B[39;00m \u001B[38;5;28mrange\u001B[39m(iters):\n\u001B[1;32m      7\u001B[0m     \u001B[38;5;66;03m# Requires gradient\u001B[39;00m\n\u001B[1;32m      8\u001B[0m \n\u001B[1;32m      9\u001B[0m     \u001B[38;5;66;03m# Forward pass\u001B[39;00m\n\u001B[0;32m---> 10\u001B[0m     outputs \u001B[38;5;241m=\u001B[39m \u001B[43mmodel\u001B[49m\u001B[43m(\u001B[49m\u001B[43madv_images\u001B[49m\u001B[43m)\u001B[49m\n\u001B[1;32m     12\u001B[0m     model\u001B[38;5;241m.\u001B[39mzero_grad()\n\u001B[1;32m     14\u001B[0m     \u001B[38;5;66;03m# Calculate loss\u001B[39;00m\n",
      "File \u001B[0;32m/usr/local/lib/python3.8/dist-packages/torch/nn/modules/module.py:1194\u001B[0m, in \u001B[0;36mModule._call_impl\u001B[0;34m(self, *input, **kwargs)\u001B[0m\n\u001B[1;32m   1190\u001B[0m \u001B[38;5;66;03m# If we don't have any hooks, we want to skip the rest of the logic in\u001B[39;00m\n\u001B[1;32m   1191\u001B[0m \u001B[38;5;66;03m# this function, and just call forward.\u001B[39;00m\n\u001B[1;32m   1192\u001B[0m \u001B[38;5;28;01mif\u001B[39;00m \u001B[38;5;129;01mnot\u001B[39;00m (\u001B[38;5;28mself\u001B[39m\u001B[38;5;241m.\u001B[39m_backward_hooks \u001B[38;5;129;01mor\u001B[39;00m \u001B[38;5;28mself\u001B[39m\u001B[38;5;241m.\u001B[39m_forward_hooks \u001B[38;5;129;01mor\u001B[39;00m \u001B[38;5;28mself\u001B[39m\u001B[38;5;241m.\u001B[39m_forward_pre_hooks \u001B[38;5;129;01mor\u001B[39;00m _global_backward_hooks\n\u001B[1;32m   1193\u001B[0m         \u001B[38;5;129;01mor\u001B[39;00m _global_forward_hooks \u001B[38;5;129;01mor\u001B[39;00m _global_forward_pre_hooks):\n\u001B[0;32m-> 1194\u001B[0m     \u001B[38;5;28;01mreturn\u001B[39;00m \u001B[43mforward_call\u001B[49m\u001B[43m(\u001B[49m\u001B[38;5;241;43m*\u001B[39;49m\u001B[38;5;28;43minput\u001B[39;49m\u001B[43m,\u001B[49m\u001B[43m \u001B[49m\u001B[38;5;241;43m*\u001B[39;49m\u001B[38;5;241;43m*\u001B[39;49m\u001B[43mkwargs\u001B[49m\u001B[43m)\u001B[49m\n\u001B[1;32m   1195\u001B[0m \u001B[38;5;66;03m# Do not call functions when jit is used\u001B[39;00m\n\u001B[1;32m   1196\u001B[0m full_backward_hooks, non_full_backward_hooks \u001B[38;5;241m=\u001B[39m [], []\n",
      "File \u001B[0;32m~/Projects/BregmanLearning/models/mnist_conv.py:41\u001B[0m, in \u001B[0;36mmnist_conv.forward\u001B[0;34m(self, x)\u001B[0m\n\u001B[1;32m     39\u001B[0m \u001B[38;5;28;01mdef\u001B[39;00m \u001B[38;5;21mforward\u001B[39m(\u001B[38;5;28mself\u001B[39m, x):\n\u001B[1;32m     40\u001B[0m     x \u001B[38;5;241m=\u001B[39m (x \u001B[38;5;241m-\u001B[39m \u001B[38;5;28mself\u001B[39m\u001B[38;5;241m.\u001B[39mmean)\u001B[38;5;241m/\u001B[39m\u001B[38;5;28mself\u001B[39m\u001B[38;5;241m.\u001B[39mstd\n\u001B[0;32m---> 41\u001B[0m     x \u001B[38;5;241m=\u001B[39m \u001B[38;5;28;43mself\u001B[39;49m\u001B[38;5;241;43m.\u001B[39;49m\u001B[43mlayers1\u001B[49m\u001B[43m(\u001B[49m\u001B[43mx\u001B[49m\u001B[43m)\u001B[49m\n\u001B[1;32m     42\u001B[0m     \u001B[38;5;28;01mreturn\u001B[39;00m \u001B[38;5;28mself\u001B[39m\u001B[38;5;241m.\u001B[39mlayers2(x)\n",
      "File \u001B[0;32m/usr/local/lib/python3.8/dist-packages/torch/nn/modules/module.py:1194\u001B[0m, in \u001B[0;36mModule._call_impl\u001B[0;34m(self, *input, **kwargs)\u001B[0m\n\u001B[1;32m   1190\u001B[0m \u001B[38;5;66;03m# If we don't have any hooks, we want to skip the rest of the logic in\u001B[39;00m\n\u001B[1;32m   1191\u001B[0m \u001B[38;5;66;03m# this function, and just call forward.\u001B[39;00m\n\u001B[1;32m   1192\u001B[0m \u001B[38;5;28;01mif\u001B[39;00m \u001B[38;5;129;01mnot\u001B[39;00m (\u001B[38;5;28mself\u001B[39m\u001B[38;5;241m.\u001B[39m_backward_hooks \u001B[38;5;129;01mor\u001B[39;00m \u001B[38;5;28mself\u001B[39m\u001B[38;5;241m.\u001B[39m_forward_hooks \u001B[38;5;129;01mor\u001B[39;00m \u001B[38;5;28mself\u001B[39m\u001B[38;5;241m.\u001B[39m_forward_pre_hooks \u001B[38;5;129;01mor\u001B[39;00m _global_backward_hooks\n\u001B[1;32m   1193\u001B[0m         \u001B[38;5;129;01mor\u001B[39;00m _global_forward_hooks \u001B[38;5;129;01mor\u001B[39;00m _global_forward_pre_hooks):\n\u001B[0;32m-> 1194\u001B[0m     \u001B[38;5;28;01mreturn\u001B[39;00m \u001B[43mforward_call\u001B[49m\u001B[43m(\u001B[49m\u001B[38;5;241;43m*\u001B[39;49m\u001B[38;5;28;43minput\u001B[39;49m\u001B[43m,\u001B[49m\u001B[43m \u001B[49m\u001B[38;5;241;43m*\u001B[39;49m\u001B[38;5;241;43m*\u001B[39;49m\u001B[43mkwargs\u001B[49m\u001B[43m)\u001B[49m\n\u001B[1;32m   1195\u001B[0m \u001B[38;5;66;03m# Do not call functions when jit is used\u001B[39;00m\n\u001B[1;32m   1196\u001B[0m full_backward_hooks, non_full_backward_hooks \u001B[38;5;241m=\u001B[39m [], []\n",
      "File \u001B[0;32m/usr/local/lib/python3.8/dist-packages/torch/nn/modules/container.py:204\u001B[0m, in \u001B[0;36mSequential.forward\u001B[0;34m(self, input)\u001B[0m\n\u001B[1;32m    202\u001B[0m \u001B[38;5;28;01mdef\u001B[39;00m \u001B[38;5;21mforward\u001B[39m(\u001B[38;5;28mself\u001B[39m, \u001B[38;5;28minput\u001B[39m):\n\u001B[1;32m    203\u001B[0m     \u001B[38;5;28;01mfor\u001B[39;00m module \u001B[38;5;129;01min\u001B[39;00m \u001B[38;5;28mself\u001B[39m:\n\u001B[0;32m--> 204\u001B[0m         \u001B[38;5;28minput\u001B[39m \u001B[38;5;241m=\u001B[39m \u001B[43mmodule\u001B[49m\u001B[43m(\u001B[49m\u001B[38;5;28;43minput\u001B[39;49m\u001B[43m)\u001B[49m\n\u001B[1;32m    205\u001B[0m     \u001B[38;5;28;01mreturn\u001B[39;00m \u001B[38;5;28minput\u001B[39m\n",
      "File \u001B[0;32m/usr/local/lib/python3.8/dist-packages/torch/nn/modules/module.py:1194\u001B[0m, in \u001B[0;36mModule._call_impl\u001B[0;34m(self, *input, **kwargs)\u001B[0m\n\u001B[1;32m   1190\u001B[0m \u001B[38;5;66;03m# If we don't have any hooks, we want to skip the rest of the logic in\u001B[39;00m\n\u001B[1;32m   1191\u001B[0m \u001B[38;5;66;03m# this function, and just call forward.\u001B[39;00m\n\u001B[1;32m   1192\u001B[0m \u001B[38;5;28;01mif\u001B[39;00m \u001B[38;5;129;01mnot\u001B[39;00m (\u001B[38;5;28mself\u001B[39m\u001B[38;5;241m.\u001B[39m_backward_hooks \u001B[38;5;129;01mor\u001B[39;00m \u001B[38;5;28mself\u001B[39m\u001B[38;5;241m.\u001B[39m_forward_hooks \u001B[38;5;129;01mor\u001B[39;00m \u001B[38;5;28mself\u001B[39m\u001B[38;5;241m.\u001B[39m_forward_pre_hooks \u001B[38;5;129;01mor\u001B[39;00m _global_backward_hooks\n\u001B[1;32m   1193\u001B[0m         \u001B[38;5;129;01mor\u001B[39;00m _global_forward_hooks \u001B[38;5;129;01mor\u001B[39;00m _global_forward_pre_hooks):\n\u001B[0;32m-> 1194\u001B[0m     \u001B[38;5;28;01mreturn\u001B[39;00m \u001B[43mforward_call\u001B[49m\u001B[43m(\u001B[49m\u001B[38;5;241;43m*\u001B[39;49m\u001B[38;5;28;43minput\u001B[39;49m\u001B[43m,\u001B[49m\u001B[43m \u001B[49m\u001B[38;5;241;43m*\u001B[39;49m\u001B[38;5;241;43m*\u001B[39;49m\u001B[43mkwargs\u001B[49m\u001B[43m)\u001B[49m\n\u001B[1;32m   1195\u001B[0m \u001B[38;5;66;03m# Do not call functions when jit is used\u001B[39;00m\n\u001B[1;32m   1196\u001B[0m full_backward_hooks, non_full_backward_hooks \u001B[38;5;241m=\u001B[39m [], []\n",
      "File \u001B[0;32m/usr/local/lib/python3.8/dist-packages/torch/nn/modules/conv.py:463\u001B[0m, in \u001B[0;36mConv2d.forward\u001B[0;34m(self, input)\u001B[0m\n\u001B[1;32m    462\u001B[0m \u001B[38;5;28;01mdef\u001B[39;00m \u001B[38;5;21mforward\u001B[39m(\u001B[38;5;28mself\u001B[39m, \u001B[38;5;28minput\u001B[39m: Tensor) \u001B[38;5;241m-\u001B[39m\u001B[38;5;241m>\u001B[39m Tensor:\n\u001B[0;32m--> 463\u001B[0m     \u001B[38;5;28;01mreturn\u001B[39;00m \u001B[38;5;28;43mself\u001B[39;49m\u001B[38;5;241;43m.\u001B[39;49m\u001B[43m_conv_forward\u001B[49m\u001B[43m(\u001B[49m\u001B[38;5;28;43minput\u001B[39;49m\u001B[43m,\u001B[49m\u001B[43m \u001B[49m\u001B[38;5;28;43mself\u001B[39;49m\u001B[38;5;241;43m.\u001B[39;49m\u001B[43mweight\u001B[49m\u001B[43m,\u001B[49m\u001B[43m \u001B[49m\u001B[38;5;28;43mself\u001B[39;49m\u001B[38;5;241;43m.\u001B[39;49m\u001B[43mbias\u001B[49m\u001B[43m)\u001B[49m\n",
      "File \u001B[0;32m/usr/local/lib/python3.8/dist-packages/torch/nn/modules/conv.py:459\u001B[0m, in \u001B[0;36mConv2d._conv_forward\u001B[0;34m(self, input, weight, bias)\u001B[0m\n\u001B[1;32m    455\u001B[0m \u001B[38;5;28;01mif\u001B[39;00m \u001B[38;5;28mself\u001B[39m\u001B[38;5;241m.\u001B[39mpadding_mode \u001B[38;5;241m!=\u001B[39m \u001B[38;5;124m'\u001B[39m\u001B[38;5;124mzeros\u001B[39m\u001B[38;5;124m'\u001B[39m:\n\u001B[1;32m    456\u001B[0m     \u001B[38;5;28;01mreturn\u001B[39;00m F\u001B[38;5;241m.\u001B[39mconv2d(F\u001B[38;5;241m.\u001B[39mpad(\u001B[38;5;28minput\u001B[39m, \u001B[38;5;28mself\u001B[39m\u001B[38;5;241m.\u001B[39m_reversed_padding_repeated_twice, mode\u001B[38;5;241m=\u001B[39m\u001B[38;5;28mself\u001B[39m\u001B[38;5;241m.\u001B[39mpadding_mode),\n\u001B[1;32m    457\u001B[0m                     weight, bias, \u001B[38;5;28mself\u001B[39m\u001B[38;5;241m.\u001B[39mstride,\n\u001B[1;32m    458\u001B[0m                     _pair(\u001B[38;5;241m0\u001B[39m), \u001B[38;5;28mself\u001B[39m\u001B[38;5;241m.\u001B[39mdilation, \u001B[38;5;28mself\u001B[39m\u001B[38;5;241m.\u001B[39mgroups)\n\u001B[0;32m--> 459\u001B[0m \u001B[38;5;28;01mreturn\u001B[39;00m \u001B[43mF\u001B[49m\u001B[38;5;241;43m.\u001B[39;49m\u001B[43mconv2d\u001B[49m\u001B[43m(\u001B[49m\u001B[38;5;28;43minput\u001B[39;49m\u001B[43m,\u001B[49m\u001B[43m \u001B[49m\u001B[43mweight\u001B[49m\u001B[43m,\u001B[49m\u001B[43m \u001B[49m\u001B[43mbias\u001B[49m\u001B[43m,\u001B[49m\u001B[43m \u001B[49m\u001B[38;5;28;43mself\u001B[39;49m\u001B[38;5;241;43m.\u001B[39;49m\u001B[43mstride\u001B[49m\u001B[43m,\u001B[49m\n\u001B[1;32m    460\u001B[0m \u001B[43m                \u001B[49m\u001B[38;5;28;43mself\u001B[39;49m\u001B[38;5;241;43m.\u001B[39;49m\u001B[43mpadding\u001B[49m\u001B[43m,\u001B[49m\u001B[43m \u001B[49m\u001B[38;5;28;43mself\u001B[39;49m\u001B[38;5;241;43m.\u001B[39;49m\u001B[43mdilation\u001B[49m\u001B[43m,\u001B[49m\u001B[43m \u001B[49m\u001B[38;5;28;43mself\u001B[39;49m\u001B[38;5;241;43m.\u001B[39;49m\u001B[43mgroups\u001B[49m\u001B[43m)\u001B[49m\n",
      "\u001B[0;31mKeyboardInterrupt\u001B[0m: "
     ]
    }
   ],
   "source": [
    "base_path = '../checkpoints' \n",
    "\n",
    "models = [('sparse 2%', 'mnist_conv_sparse_linbreg_ggmodel_lambda_4.pth'), \n",
    "          ('sparse 5%', 'mnist_conv_sparse_linbreg_ggmodel_lambda_5_5pc.pth'),\n",
    "          ('sparse 10%', 'mnist_conv_sparse_linbreg_ggmodel_lambda_5_10pc.pth'),\n",
    "          ('sparse 20%', 'mnist_conv_sparse_linbreg_ggmodel_lambda_5_20pc.pth'),\n",
    "          ('sparse 40%', 'mnist_conv_sparse_linbreg_ggmodel_lambda_5_50pc.pth'),\n",
    "          ('dense', 'mnist_conv_dense.pth' )]\n",
    "alpha = .1\n",
    "iters = 10\n",
    "epsilons = np.arange(0, 0.104, 0.004)\n",
    "\n",
    "\n",
    "accuracies = { 'sparse 2%': [], 'sparse 5%': [], 'sparse 10%': [], 'sparse 20%': [], 'sparse 40%':[], 'dense': []} \n",
    "\n",
    "examples = []\n",
    "\n",
    "data, target = get_batch(test_loader)\n",
    "\n",
    "for (name, path) in models:\n",
    "    model = load_model(conf, f'{base_path}/{path}')\n",
    "    for eps in epsilons:\n",
    "        adv_examples = bim_attack(model, data, target, eps, alpha, iters)\n",
    "        acc, ex = test_bim(model, adv_examples, target, conf, eps, alpha)\n",
    "        accuracies[name].append(acc)\n",
    "        examples = ex"
   ]
  },
  {
   "cell_type": "code",
   "execution_count": 17,
   "id": "18d9c253d0176915",
   "metadata": {
    "ExecuteTime": {
     "end_time": "2024-01-15T18:57:18.744151Z",
     "start_time": "2024-01-15T18:57:18.739952Z"
    },
    "collapsed": false,
    "tags": []
   },
   "outputs": [
    {
     "data": {
      "text/html": [
       "<div>\n",
       "<style scoped>\n",
       "    .dataframe tbody tr th:only-of-type {\n",
       "        vertical-align: middle;\n",
       "    }\n",
       "\n",
       "    .dataframe tbody tr th {\n",
       "        vertical-align: top;\n",
       "    }\n",
       "\n",
       "    .dataframe thead th {\n",
       "        text-align: right;\n",
       "    }\n",
       "</style>\n",
       "<table border=\"1\" class=\"dataframe\">\n",
       "  <thead>\n",
       "    <tr style=\"text-align: right;\">\n",
       "      <th></th>\n",
       "      <th>sparse 2%</th>\n",
       "      <th>sparse 5%</th>\n",
       "      <th>sparse 10%</th>\n",
       "      <th>sparse 20%</th>\n",
       "      <th>sparse 40%</th>\n",
       "      <th>dense</th>\n",
       "    </tr>\n",
       "    <tr>\n",
       "      <th>eps</th>\n",
       "      <th></th>\n",
       "      <th></th>\n",
       "      <th></th>\n",
       "      <th></th>\n",
       "      <th></th>\n",
       "      <th></th>\n",
       "    </tr>\n",
       "  </thead>\n",
       "  <tbody>\n",
       "    <tr>\n",
       "      <th>0.000</th>\n",
       "      <td>85.2</td>\n",
       "      <td>87.2</td>\n",
       "      <td>86.6</td>\n",
       "      <td>88.8</td>\n",
       "      <td>90.0</td>\n",
       "      <td>90.7</td>\n",
       "    </tr>\n",
       "    <tr>\n",
       "      <th>0.004</th>\n",
       "      <td>80.5</td>\n",
       "      <td>81.9</td>\n",
       "      <td>79.3</td>\n",
       "      <td>83.1</td>\n",
       "      <td>84.9</td>\n",
       "      <td>87.7</td>\n",
       "    </tr>\n",
       "    <tr>\n",
       "      <th>0.008</th>\n",
       "      <td>77.2</td>\n",
       "      <td>75.7</td>\n",
       "      <td>73.8</td>\n",
       "      <td>78.2</td>\n",
       "      <td>79.1</td>\n",
       "      <td>79.8</td>\n",
       "    </tr>\n",
       "    <tr>\n",
       "      <th>0.012</th>\n",
       "      <td>73.5</td>\n",
       "      <td>70.6</td>\n",
       "      <td>68.8</td>\n",
       "      <td>71.2</td>\n",
       "      <td>73.1</td>\n",
       "      <td>74.1</td>\n",
       "    </tr>\n",
       "    <tr>\n",
       "      <th>0.016</th>\n",
       "      <td>71.1</td>\n",
       "      <td>65.1</td>\n",
       "      <td>61.9</td>\n",
       "      <td>66.1</td>\n",
       "      <td>66.8</td>\n",
       "      <td>68.6</td>\n",
       "    </tr>\n",
       "  </tbody>\n",
       "</table>\n",
       "</div>"
      ],
      "text/plain": [
       "       sparse 2%  sparse 5%  sparse 10%  sparse 20%  sparse 40%  dense\n",
       "eps                                                                   \n",
       "0.000       85.2       87.2        86.6        88.8        90.0   90.7\n",
       "0.004       80.5       81.9        79.3        83.1        84.9   87.7\n",
       "0.008       77.2       75.7        73.8        78.2        79.1   79.8\n",
       "0.012       73.5       70.6        68.8        71.2        73.1   74.1\n",
       "0.016       71.1       65.1        61.9        66.1        66.8   68.6"
      ]
     },
     "execution_count": 17,
     "metadata": {},
     "output_type": "execute_result"
    }
   ],
   "source": [
    "data_dict = accuracies\n",
    "data_dict['eps'] = epsilons.tolist()\n",
    "df = pd.DataFrame(data_dict)\n",
    "df.set_index('eps', inplace=True)\n",
    "df.head(5)"
   ]
  },
  {
   "cell_type": "code",
   "execution_count": 18,
   "id": "7b81c183-397d-4b9c-9c33-af4f45b0e5ce",
   "metadata": {
    "tags": []
   },
   "outputs": [],
   "source": [
    "df.to_csv('../results/dense_multi_sparse_BIM_attack.csv')"
   ]
  },
  {
   "cell_type": "code",
   "execution_count": 19,
   "id": "b5aec51f-ac53-4907-b507-fcfd67f24cd4",
   "metadata": {
    "tags": []
   },
   "outputs": [
    {
     "data": {
      "image/png": "[encoded data removed]",
      "text/plain": [
       "<Figure size 640x480 with 1 Axes>"
      ]
     },
     "metadata": {},
     "output_type": "display_data"
    }
   ],
   "source": [
    "df = pd.read_csv('../results/dense_multi_sparse_BIM_attack.csv')\n",
    "df.set_index('eps', inplace=True)\n",
    "\n",
    "df.plot(kind='line')\n",
    "plt.grid(True, linestyle='--')\n",
    "plt.legend(title='Network')\n",
    "plt.xlabel('Epsilon')\n",
    "plt.ylabel('Accuracy (%)')\n",
    "plt.savefig('dense_sparse_BIM_attack.png')"
   ]
  },
  {
   "cell_type": "markdown",
   "id": "a5f6007c-f8b8-4b57-8b9a-96119b525849",
   "metadata": {
    "user_expressions": []
   },
   "source": [
    "# FGM Attack"
   ]
  },
  {
   "cell_type": "code",
   "execution_count": 89,
   "id": "ee1f3b2a-c6e3-4566-9835-f60210bc7e13",
   "metadata": {
    "tags": []
   },
   "outputs": [
    {
     "data": {
      "text/plain": [
       "(torch.Size([1000, 1, 28, 28]), torch.Size([1000]))"
      ]
     },
     "execution_count": 89,
     "metadata": {},
     "output_type": "execute_result"
    }
   ],
   "source": [
    "x, y = get_batch(test_loader)\n"
   ]
  },
  {
   "cell_type": "code",
   "execution_count": 21,
   "id": "74ebbe98-396a-4330-9be2-1c0843d2243c",
   "metadata": {
    "tags": []
   },
   "outputs": [
    {
     "name": "stdout",
     "output_type": "stream",
     "text": [
      "Epsilon: 0.0\tTest Accuracy = 852 / 10 = 85.2\n",
      "Epsilon: 0.004\tTest Accuracy = 758 / 10 = 75.8\n",
      "Epsilon: 0.008\tTest Accuracy = 673 / 10 = 67.3\n",
      "Epsilon: 0.012\tTest Accuracy = 584 / 10 = 58.4\n",
      "Epsilon: 0.016\tTest Accuracy = 513 / 10 = 51.3\n",
      "Epsilon: 0.02\tTest Accuracy = 459 / 10 = 45.9\n",
      "Epsilon: 0.024\tTest Accuracy = 401 / 10 = 40.1\n",
      "Epsilon: 0.028\tTest Accuracy = 367 / 10 = 36.7\n",
      "Epsilon: 0.032\tTest Accuracy = 334 / 10 = 33.4\n",
      "Epsilon: 0.036000000000000004\tTest Accuracy = 296 / 10 = 29.6\n",
      "Epsilon: 0.04\tTest Accuracy = 270 / 10 = 27.0\n",
      "Epsilon: 0.044\tTest Accuracy = 250 / 10 = 25.0\n",
      "Epsilon: 0.048\tTest Accuracy = 231 / 10 = 23.1\n",
      "Epsilon: 0.052000000000000005\tTest Accuracy = 213 / 10 = 21.3\n",
      "Epsilon: 0.056\tTest Accuracy = 197 / 10 = 19.7\n",
      "Epsilon: 0.06\tTest Accuracy = 181 / 10 = 18.1\n",
      "Epsilon: 0.064\tTest Accuracy = 172 / 10 = 17.2\n",
      "Epsilon: 0.068\tTest Accuracy = 157 / 10 = 15.7\n",
      "Epsilon: 0.07200000000000001\tTest Accuracy = 145 / 10 = 14.5\n",
      "Epsilon: 0.076\tTest Accuracy = 133 / 10 = 13.3\n",
      "Epsilon: 0.08\tTest Accuracy = 128 / 10 = 12.8\n",
      "Epsilon: 0.084\tTest Accuracy = 118 / 10 = 11.8\n",
      "Epsilon: 0.088\tTest Accuracy = 108 / 10 = 10.8\n",
      "Epsilon: 0.092\tTest Accuracy = 106 / 10 = 10.6\n",
      "Epsilon: 0.096\tTest Accuracy = 99 / 10 = 9.9\n",
      "Epsilon: 0.1\tTest Accuracy = 94 / 10 = 9.4\n",
      "Epsilon: 0.0\tTest Accuracy = 872 / 10 = 87.2\n",
      "Epsilon: 0.004\tTest Accuracy = 727 / 10 = 72.7\n",
      "Epsilon: 0.008\tTest Accuracy = 604 / 10 = 60.4\n",
      "Epsilon: 0.012\tTest Accuracy = 481 / 10 = 48.1\n",
      "Epsilon: 0.016\tTest Accuracy = 383 / 10 = 38.3\n",
      "Epsilon: 0.02\tTest Accuracy = 277 / 10 = 27.7\n",
      "Epsilon: 0.024\tTest Accuracy = 201 / 10 = 20.1\n",
      "Epsilon: 0.028\tTest Accuracy = 148 / 10 = 14.8\n",
      "Epsilon: 0.032\tTest Accuracy = 111 / 10 = 11.1\n",
      "Epsilon: 0.036000000000000004\tTest Accuracy = 92 / 10 = 9.2\n",
      "Epsilon: 0.04\tTest Accuracy = 71 / 10 = 7.1\n",
      "Epsilon: 0.044\tTest Accuracy = 55 / 10 = 5.5\n",
      "Epsilon: 0.048\tTest Accuracy = 47 / 10 = 4.7\n",
      "Epsilon: 0.052000000000000005\tTest Accuracy = 34 / 10 = 3.4\n",
      "Epsilon: 0.056\tTest Accuracy = 25 / 10 = 2.5\n",
      "Epsilon: 0.06\tTest Accuracy = 20 / 10 = 2.0\n",
      "Epsilon: 0.064\tTest Accuracy = 19 / 10 = 1.9\n",
      "Epsilon: 0.068\tTest Accuracy = 18 / 10 = 1.8\n",
      "Epsilon: 0.07200000000000001\tTest Accuracy = 16 / 10 = 1.6\n",
      "Epsilon: 0.076\tTest Accuracy = 13 / 10 = 1.3\n",
      "Epsilon: 0.08\tTest Accuracy = 12 / 10 = 1.2\n",
      "Epsilon: 0.084\tTest Accuracy = 10 / 10 = 1.0\n",
      "Epsilon: 0.088\tTest Accuracy = 9 / 10 = 0.9\n",
      "Epsilon: 0.092\tTest Accuracy = 9 / 10 = 0.9\n",
      "Epsilon: 0.096\tTest Accuracy = 9 / 10 = 0.9\n",
      "Epsilon: 0.1\tTest Accuracy = 10 / 10 = 1.0\n",
      "Epsilon: 0.0\tTest Accuracy = 866 / 10 = 86.6\n",
      "Epsilon: 0.004\tTest Accuracy = 701 / 10 = 70.1\n",
      "Epsilon: 0.008\tTest Accuracy = 541 / 10 = 54.1\n",
      "Epsilon: 0.02\tTest Accuracy = 298 / 10 = 29.8\n",
      "Epsilon: 0.024\tTest Accuracy = 246 / 10 = 24.6\n",
      "Epsilon: 0.028\tTest Accuracy = 215 / 10 = 21.5\n",
      "Epsilon: 0.032\tTest Accuracy = 180 / 10 = 18.0\n",
      "Epsilon: 0.036000000000000004\tTest Accuracy = 158 / 10 = 15.8\n",
      "Epsilon: 0.04\tTest Accuracy = 127 / 10 = 12.7\n",
      "Epsilon: 0.044\tTest Accuracy = 107 / 10 = 10.7\n",
      "Epsilon: 0.048\tTest Accuracy = 84 / 10 = 8.4\n",
      "Epsilon: 0.052000000000000005\tTest Accuracy = 71 / 10 = 7.1\n",
      "Epsilon: 0.056\tTest Accuracy = 66 / 10 = 6.6\n",
      "Epsilon: 0.06\tTest Accuracy = 57 / 10 = 5.7\n",
      "Epsilon: 0.064\tTest Accuracy = 50 / 10 = 5.0\n",
      "Epsilon: 0.068\tTest Accuracy = 41 / 10 = 4.1\n",
      "Epsilon: 0.07200000000000001\tTest Accuracy = 36 / 10 = 3.6\n",
      "Epsilon: 0.076\tTest Accuracy = 34 / 10 = 3.4\n",
      "Epsilon: 0.08\tTest Accuracy = 25 / 10 = 2.5\n",
      "Epsilon: 0.084\tTest Accuracy = 22 / 10 = 2.2\n",
      "Epsilon: 0.088\tTest Accuracy = 22 / 10 = 2.2\n",
      "Epsilon: 0.092\tTest Accuracy = 21 / 10 = 2.1\n",
      "Epsilon: 0.096\tTest Accuracy = 20 / 10 = 2.0\n",
      "Epsilon: 0.1\tTest Accuracy = 19 / 10 = 1.9\n",
      "Epsilon: 0.0\tTest Accuracy = 888 / 10 = 88.8\n",
      "Epsilon: 0.004\tTest Accuracy = 731 / 10 = 73.1\n",
      "Epsilon: 0.008\tTest Accuracy = 590 / 10 = 59.0\n",
      "Epsilon: 0.012\tTest Accuracy = 470 / 10 = 47.0\n",
      "Epsilon: 0.016\tTest Accuracy = 369 / 10 = 36.9\n",
      "Epsilon: 0.02\tTest Accuracy = 285 / 10 = 28.5\n",
      "Epsilon: 0.024\tTest Accuracy = 227 / 10 = 22.7\n",
      "Epsilon: 0.028\tTest Accuracy = 182 / 10 = 18.2\n",
      "Epsilon: 0.032\tTest Accuracy = 144 / 10 = 14.4\n",
      "Epsilon: 0.036000000000000004\tTest Accuracy = 116 / 10 = 11.6\n",
      "Epsilon: 0.04\tTest Accuracy = 98 / 10 = 9.8\n",
      "Epsilon: 0.044\tTest Accuracy = 80 / 10 = 8.0\n",
      "Epsilon: 0.048\tTest Accuracy = 71 / 10 = 7.1\n",
      "Epsilon: 0.052000000000000005\tTest Accuracy = 61 / 10 = 6.1\n",
      "Epsilon: 0.056\tTest Accuracy = 51 / 10 = 5.1\n",
      "Epsilon: 0.064\tTest Accuracy = 34 / 10 = 3.4\n",
      "Epsilon: 0.068\tTest Accuracy = 29 / 10 = 2.9\n",
      "Epsilon: 0.07200000000000001\tTest Accuracy = 25 / 10 = 2.5\n",
      "Epsilon: 0.076\tTest Accuracy = 18 / 10 = 1.8\n",
      "Epsilon: 0.08\tTest Accuracy = 16 / 10 = 1.6\n",
      "Epsilon: 0.084\tTest Accuracy = 12 / 10 = 1.2\n",
      "Epsilon: 0.088\tTest Accuracy = 12 / 10 = 1.2\n",
      "Epsilon: 0.092\tTest Accuracy = 12 / 10 = 1.2\n",
      "Epsilon: 0.096\tTest Accuracy = 12 / 10 = 1.2\n",
      "Epsilon: 0.1\tTest Accuracy = 11 / 10 = 1.1\n",
      "Epsilon: 0.0\tTest Accuracy = 900 / 10 = 90.0\n",
      "Epsilon: 0.004\tTest Accuracy = 745 / 10 = 74.5\n",
      "Epsilon: 0.008\tTest Accuracy = 608 / 10 = 60.8\n",
      "Epsilon: 0.012\tTest Accuracy = 471 / 10 = 47.1\n",
      "Epsilon: 0.016\tTest Accuracy = 362 / 10 = 36.2\n",
      "Epsilon: 0.024\tTest Accuracy = 222 / 10 = 22.2\n",
      "Epsilon: 0.028\tTest Accuracy = 170 / 10 = 17.0\n",
      "Epsilon: 0.032\tTest Accuracy = 130 / 10 = 13.0\n",
      "Epsilon: 0.036000000000000004\tTest Accuracy = 93 / 10 = 9.3\n",
      "Epsilon: 0.04\tTest Accuracy = 68 / 10 = 6.8\n",
      "Epsilon: 0.044\tTest Accuracy = 43 / 10 = 4.3\n",
      "Epsilon: 0.048\tTest Accuracy = 26 / 10 = 2.6\n",
      "Epsilon: 0.052000000000000005\tTest Accuracy = 19 / 10 = 1.9\n",
      "Epsilon: 0.056\tTest Accuracy = 12 / 10 = 1.2\n",
      "Epsilon: 0.06\tTest Accuracy = 9 / 10 = 0.9\n",
      "Epsilon: 0.064\tTest Accuracy = 8 / 10 = 0.8\n",
      "Epsilon: 0.068\tTest Accuracy = 5 / 10 = 0.5\n",
      "Epsilon: 0.07200000000000001\tTest Accuracy = 4 / 10 = 0.4\n",
      "Epsilon: 0.076\tTest Accuracy = 3 / 10 = 0.3\n",
      "Epsilon: 0.08\tTest Accuracy = 2 / 10 = 0.2\n",
      "Epsilon: 0.084\tTest Accuracy = 2 / 10 = 0.2\n",
      "Epsilon: 0.088\tTest Accuracy = 2 / 10 = 0.2\n",
      "Epsilon: 0.092\tTest Accuracy = 2 / 10 = 0.2\n",
      "Epsilon: 0.096\tTest Accuracy = 2 / 10 = 0.2\n",
      "Epsilon: 0.1\tTest Accuracy = 2 / 10 = 0.2\n",
      "Epsilon: 0.0\tTest Accuracy = 907 / 10 = 90.7\n",
      "Epsilon: 0.004\tTest Accuracy = 757 / 10 = 75.7\n",
      "Epsilon: 0.008\tTest Accuracy = 608 / 10 = 60.8\n",
      "Epsilon: 0.012\tTest Accuracy = 474 / 10 = 47.4\n",
      "Epsilon: 0.016\tTest Accuracy = 368 / 10 = 36.8\n",
      "Epsilon: 0.02\tTest Accuracy = 272 / 10 = 27.2\n",
      "Epsilon: 0.024\tTest Accuracy = 199 / 10 = 19.9\n",
      "Epsilon: 0.028\tTest Accuracy = 157 / 10 = 15.7\n",
      "Epsilon: 0.032\tTest Accuracy = 128 / 10 = 12.8\n",
      "Epsilon: 0.036000000000000004\tTest Accuracy = 104 / 10 = 10.4\n",
      "Epsilon: 0.04\tTest Accuracy = 86 / 10 = 8.6\n",
      "Epsilon: 0.044\tTest Accuracy = 62 / 10 = 6.2\n",
      "Epsilon: 0.048\tTest Accuracy = 55 / 10 = 5.5\n",
      "Epsilon: 0.052000000000000005\tTest Accuracy = 51 / 10 = 5.1\n",
      "Epsilon: 0.056\tTest Accuracy = 40 / 10 = 4.0\n",
      "Epsilon: 0.06\tTest Accuracy = 30 / 10 = 3.0\n",
      "Epsilon: 0.064\tTest Accuracy = 22 / 10 = 2.2\n",
      "Epsilon: 0.068\tTest Accuracy = 19 / 10 = 1.9\n",
      "Epsilon: 0.07200000000000001\tTest Accuracy = 19 / 10 = 1.9\n",
      "Epsilon: 0.076\tTest Accuracy = 18 / 10 = 1.8\n",
      "Epsilon: 0.08\tTest Accuracy = 16 / 10 = 1.6\n",
      "Epsilon: 0.084\tTest Accuracy = 15 / 10 = 1.5\n",
      "Epsilon: 0.088\tTest Accuracy = 16 / 10 = 1.6\n",
      "Epsilon: 0.092\tTest Accuracy = 16 / 10 = 1.6\n",
      "Epsilon: 0.096\tTest Accuracy = 16 / 10 = 1.6\n",
      "Epsilon: 0.1\tTest Accuracy = 16 / 10 = 1.6\n"
     ]
    }
   ],
   "source": [
    "base_path = '../checkpoints' \n",
    "models = [('sparse 2%', 'mnist_conv_sparse_linbreg_ggmodel_lambda_4.pth'), \n",
    "          ('sparse 5%', 'mnist_conv_sparse_linbreg_ggmodel_lambda_5_5pc.pth'),\n",
    "          ('sparse 10%', 'mnist_conv_sparse_linbreg_ggmodel_lambda_5_10pc.pth'),\n",
    "          ('sparse 20%', 'mnist_conv_sparse_linbreg_ggmodel_lambda_5_20pc.pth'),\n",
    "          ('sparse 40%', 'mnist_conv_sparse_linbreg_ggmodel_lambda_5_50pc.pth'),\n",
    "          ('dense', 'mnist_conv_dense.pth' )]\n",
    "alpha = .1\n",
    "iters = 10\n",
    "epsilons = np.arange(0, 0.104, 0.004)\n",
    "\n",
    "\n",
    "accuracies = { 'sparse 2%': [], 'sparse 5%': [], 'sparse 10%': [], 'sparse 20%': [], 'sparse 40%':[], 'dense': []} \n",
    "\n",
    "examples = []\n",
    "\n",
    "for (name, path) in models:\n",
    "    model = load_model(conf, f'{base_path}/{path}')\n",
    "    for eps in epsilons:\n",
    "        acc, ex = test_fgm(model, test_loader, conf, eps)\n",
    "        accuracies[name].append(acc)\n",
    "        examples = ex\n"
   ]
  },
  {
   "cell_type": "code",
   "execution_count": 22,
   "id": "f286c684-686e-4d1b-916b-e356258d60b2",
   "metadata": {
    "tags": []
   },
   "outputs": [
    {
     "data": {
      "text/html": [
       "<div>\n",
       "<style scoped>\n",
       "    .dataframe tbody tr th:only-of-type {\n",
       "        vertical-align: middle;\n",
       "    }\n",
       "\n",
       "    .dataframe tbody tr th {\n",
       "        vertical-align: top;\n",
       "    }\n",
       "\n",
       "    .dataframe thead th {\n",
       "        text-align: right;\n",
       "    }\n",
       "</style>\n",
       "<table border=\"1\" class=\"dataframe\">\n",
       "  <thead>\n",
       "    <tr style=\"text-align: right;\">\n",
       "      <th></th>\n",
       "      <th>sparse 2%</th>\n",
       "      <th>sparse 5%</th>\n",
       "      <th>sparse 10%</th>\n",
       "      <th>sparse 20%</th>\n",
       "      <th>sparse 40%</th>\n",
       "      <th>dense</th>\n",
       "    </tr>\n",
       "    <tr>\n",
       "      <th>eps</th>\n",
       "      <th></th>\n",
       "      <th></th>\n",
       "      <th></th>\n",
       "      <th></th>\n",
       "      <th></th>\n",
       "      <th></th>\n",
       "    </tr>\n",
       "  </thead>\n",
       "  <tbody>\n",
       "    <tr>\n",
       "      <th>0.000</th>\n",
       "      <td>85.2</td>\n",
       "      <td>87.2</td>\n",
       "      <td>86.6</td>\n",
       "      <td>88.8</td>\n",
       "      <td>90.0</td>\n",
       "      <td>90.7</td>\n",
       "    </tr>\n",
       "    <tr>\n",
       "      <th>0.004</th>\n",
       "      <td>75.8</td>\n",
       "      <td>72.7</td>\n",
       "      <td>70.1</td>\n",
       "      <td>73.1</td>\n",
       "      <td>74.5</td>\n",
       "      <td>75.7</td>\n",
       "    </tr>\n",
       "    <tr>\n",
       "      <th>0.008</th>\n",
       "      <td>67.3</td>\n",
       "      <td>60.4</td>\n",
       "      <td>54.1</td>\n",
       "      <td>59.0</td>\n",
       "      <td>60.8</td>\n",
       "      <td>60.8</td>\n",
       "    </tr>\n",
       "    <tr>\n",
       "      <th>0.012</th>\n",
       "      <td>58.4</td>\n",
       "      <td>48.1</td>\n",
       "      <td>43.0</td>\n",
       "      <td>47.0</td>\n",
       "      <td>47.1</td>\n",
       "      <td>47.4</td>\n",
       "    </tr>\n",
       "    <tr>\n",
       "      <th>0.016</th>\n",
       "      <td>51.3</td>\n",
       "      <td>38.3</td>\n",
       "      <td>36.2</td>\n",
       "      <td>36.9</td>\n",
       "      <td>36.2</td>\n",
       "      <td>36.8</td>\n",
       "    </tr>\n",
       "  </tbody>\n",
       "</table>\n",
       "</div>"
      ],
      "text/plain": [
       "       sparse 2%  sparse 5%  sparse 10%  sparse 20%  sparse 40%  dense\n",
       "eps                                                                   \n",
       "0.000       85.2       87.2        86.6        88.8        90.0   90.7\n",
       "0.004       75.8       72.7        70.1        73.1        74.5   75.7\n",
       "0.008       67.3       60.4        54.1        59.0        60.8   60.8\n",
       "0.012       58.4       48.1        43.0        47.0        47.1   47.4\n",
       "0.016       51.3       38.3        36.2        36.9        36.2   36.8"
      ]
     },
     "execution_count": 22,
     "metadata": {},
     "output_type": "execute_result"
    }
   ],
   "source": [
    "data_dict = accuracies\n",
    "data_dict['eps'] = epsilons.tolist()\n",
    "df = pd.DataFrame(data_dict)\n",
    "df.set_index('eps', inplace=True)\n",
    "df.head(5)"
   ]
  },
  {
   "cell_type": "code",
   "execution_count": 23,
   "id": "53960f13-e865-4e94-b945-b6f5f54c1088",
   "metadata": {
    "tags": []
   },
   "outputs": [
    {
     "data": {
      "image/png": "[encoded data removed]",
      "text/plain": [
       "<Figure size 640x480 with 1 Axes>"
      ]
     },
     "metadata": {},
     "output_type": "display_data"
    }
   ],
   "source": [
    "df.plot(kind='line')\n",
    "plt.grid(True, linestyle='--')\n",
    "plt.legend(title='Network')\n",
    "plt.xlabel('Epsilon')\n",
    "plt.ylabel('Accuracy (%)')\n",
    "plt.savefig('dense_multi_sparse_FGSM_attack.png')"
   ]
  },
  {
   "cell_type": "code",
   "execution_count": 24,
   "id": "eec6f806-577c-46c0-bb8c-81cb57c947e3",
   "metadata": {
    "tags": []
   },
   "outputs": [],
   "source": [
    "df.to_csv('../results/dense_multi_sparse_FGSM_attack.csv')"
   ]
  },
  {
   "cell_type": "code",
   "execution_count": 25,
   "id": "83834d0b-d006-425d-92d6-b7dde1db70df",
   "metadata": {
    "tags": []
   },
   "outputs": [
    {
     "data": {
      "text/html": [
       "<div>\n",
       "<style scoped>\n",
       "    .dataframe tbody tr th:only-of-type {\n",
       "        vertical-align: middle;\n",
       "    }\n",
       "\n",
       "    .dataframe tbody tr th {\n",
       "        vertical-align: top;\n",
       "    }\n",
       "\n",
       "    .dataframe thead th {\n",
       "        text-align: right;\n",
       "    }\n",
       "</style>\n",
       "<table border=\"1\" class=\"dataframe\">\n",
       "  <thead>\n",
       "    <tr style=\"text-align: right;\">\n",
       "      <th></th>\n",
       "      <th>sparse 2%</th>\n",
       "      <th>sparse 5%</th>\n",
       "      <th>sparse 10%</th>\n",
       "      <th>sparse 20%</th>\n",
       "      <th>sparse 40%</th>\n",
       "      <th>dense</th>\n",
       "    </tr>\n",
       "    <tr>\n",
       "      <th>eps</th>\n",
       "      <th></th>\n",
       "      <th></th>\n",
       "      <th></th>\n",
       "      <th></th>\n",
       "      <th></th>\n",
       "      <th></th>\n",
       "    </tr>\n",
       "  </thead>\n",
       "  <tbody>\n",
       "    <tr>\n",
       "      <th>0.000</th>\n",
       "      <td>85.2</td>\n",
       "      <td>87.2</td>\n",
       "      <td>86.6</td>\n",
       "      <td>88.8</td>\n",
       "      <td>90.0</td>\n",
       "      <td>90.7</td>\n",
       "    </tr>\n",
       "    <tr>\n",
       "      <th>0.004</th>\n",
       "      <td>75.8</td>\n",
       "      <td>72.7</td>\n",
       "      <td>70.1</td>\n",
       "      <td>73.1</td>\n",
       "      <td>74.5</td>\n",
       "      <td>75.7</td>\n",
       "    </tr>\n",
       "    <tr>\n",
       "      <th>0.008</th>\n",
       "      <td>67.3</td>\n",
       "      <td>60.4</td>\n",
       "      <td>54.1</td>\n",
       "      <td>59.0</td>\n",
       "      <td>60.8</td>\n",
       "      <td>60.8</td>\n",
       "    </tr>\n",
       "    <tr>\n",
       "      <th>0.012</th>\n",
       "      <td>58.4</td>\n",
       "      <td>48.1</td>\n",
       "      <td>43.0</td>\n",
       "      <td>47.0</td>\n",
       "      <td>47.1</td>\n",
       "      <td>47.4</td>\n",
       "    </tr>\n",
       "    <tr>\n",
       "      <th>0.016</th>\n",
       "      <td>51.3</td>\n",
       "      <td>38.3</td>\n",
       "      <td>36.2</td>\n",
       "      <td>36.9</td>\n",
       "      <td>36.2</td>\n",
       "      <td>36.8</td>\n",
       "    </tr>\n",
       "    <tr>\n",
       "      <th>0.020</th>\n",
       "      <td>45.9</td>\n",
       "      <td>27.7</td>\n",
       "      <td>29.8</td>\n",
       "      <td>28.5</td>\n",
       "      <td>28.3</td>\n",
       "      <td>27.2</td>\n",
       "    </tr>\n",
       "    <tr>\n",
       "      <th>0.024</th>\n",
       "      <td>40.1</td>\n",
       "      <td>20.1</td>\n",
       "      <td>24.6</td>\n",
       "      <td>22.7</td>\n",
       "      <td>22.2</td>\n",
       "      <td>19.9</td>\n",
       "    </tr>\n",
       "    <tr>\n",
       "      <th>0.028</th>\n",
       "      <td>36.7</td>\n",
       "      <td>14.8</td>\n",
       "      <td>21.5</td>\n",
       "      <td>18.2</td>\n",
       "      <td>17.0</td>\n",
       "      <td>15.7</td>\n",
       "    </tr>\n",
       "    <tr>\n",
       "      <th>0.032</th>\n",
       "      <td>33.4</td>\n",
       "      <td>11.1</td>\n",
       "      <td>18.0</td>\n",
       "      <td>14.4</td>\n",
       "      <td>13.0</td>\n",
       "      <td>12.8</td>\n",
       "    </tr>\n",
       "    <tr>\n",
       "      <th>0.036</th>\n",
       "      <td>29.6</td>\n",
       "      <td>9.2</td>\n",
       "      <td>15.8</td>\n",
       "      <td>11.6</td>\n",
       "      <td>9.3</td>\n",
       "      <td>10.4</td>\n",
       "    </tr>\n",
       "    <tr>\n",
       "      <th>0.040</th>\n",
       "      <td>27.0</td>\n",
       "      <td>7.1</td>\n",
       "      <td>12.7</td>\n",
       "      <td>9.8</td>\n",
       "      <td>6.8</td>\n",
       "      <td>8.6</td>\n",
       "    </tr>\n",
       "    <tr>\n",
       "      <th>0.044</th>\n",
       "      <td>25.0</td>\n",
       "      <td>5.5</td>\n",
       "      <td>10.7</td>\n",
       "      <td>8.0</td>\n",
       "      <td>4.3</td>\n",
       "      <td>6.2</td>\n",
       "    </tr>\n",
       "    <tr>\n",
       "      <th>0.048</th>\n",
       "      <td>23.1</td>\n",
       "      <td>4.7</td>\n",
       "      <td>8.4</td>\n",
       "      <td>7.1</td>\n",
       "      <td>2.6</td>\n",
       "      <td>5.5</td>\n",
       "    </tr>\n",
       "    <tr>\n",
       "      <th>0.052</th>\n",
       "      <td>21.3</td>\n",
       "      <td>3.4</td>\n",
       "      <td>7.1</td>\n",
       "      <td>6.1</td>\n",
       "      <td>1.9</td>\n",
       "      <td>5.1</td>\n",
       "    </tr>\n",
       "    <tr>\n",
       "      <th>0.056</th>\n",
       "      <td>19.7</td>\n",
       "      <td>2.5</td>\n",
       "      <td>6.6</td>\n",
       "      <td>5.1</td>\n",
       "      <td>1.2</td>\n",
       "      <td>4.0</td>\n",
       "    </tr>\n",
       "    <tr>\n",
       "      <th>0.060</th>\n",
       "      <td>18.1</td>\n",
       "      <td>2.0</td>\n",
       "      <td>5.7</td>\n",
       "      <td>4.2</td>\n",
       "      <td>0.9</td>\n",
       "      <td>3.0</td>\n",
       "    </tr>\n",
       "    <tr>\n",
       "      <th>0.064</th>\n",
       "      <td>17.2</td>\n",
       "      <td>1.9</td>\n",
       "      <td>5.0</td>\n",
       "      <td>3.4</td>\n",
       "      <td>0.8</td>\n",
       "      <td>2.2</td>\n",
       "    </tr>\n",
       "    <tr>\n",
       "      <th>0.068</th>\n",
       "      <td>15.7</td>\n",
       "      <td>1.8</td>\n",
       "      <td>4.1</td>\n",
       "      <td>2.9</td>\n",
       "      <td>0.5</td>\n",
       "      <td>1.9</td>\n",
       "    </tr>\n",
       "    <tr>\n",
       "      <th>0.072</th>\n",
       "      <td>14.5</td>\n",
       "      <td>1.6</td>\n",
       "      <td>3.6</td>\n",
       "      <td>2.5</td>\n",
       "      <td>0.4</td>\n",
       "      <td>1.9</td>\n",
       "    </tr>\n",
       "    <tr>\n",
       "      <th>0.076</th>\n",
       "      <td>13.3</td>\n",
       "      <td>1.3</td>\n",
       "      <td>3.4</td>\n",
       "      <td>1.8</td>\n",
       "      <td>0.3</td>\n",
       "      <td>1.8</td>\n",
       "    </tr>\n",
       "    <tr>\n",
       "      <th>0.080</th>\n",
       "      <td>12.8</td>\n",
       "      <td>1.2</td>\n",
       "      <td>2.5</td>\n",
       "      <td>1.6</td>\n",
       "      <td>0.2</td>\n",
       "      <td>1.6</td>\n",
       "    </tr>\n",
       "    <tr>\n",
       "      <th>0.084</th>\n",
       "      <td>11.8</td>\n",
       "      <td>1.0</td>\n",
       "      <td>2.2</td>\n",
       "      <td>1.2</td>\n",
       "      <td>0.2</td>\n",
       "      <td>1.5</td>\n",
       "    </tr>\n",
       "    <tr>\n",
       "      <th>0.088</th>\n",
       "      <td>10.8</td>\n",
       "      <td>0.9</td>\n",
       "      <td>2.2</td>\n",
       "      <td>1.2</td>\n",
       "      <td>0.2</td>\n",
       "      <td>1.6</td>\n",
       "    </tr>\n",
       "    <tr>\n",
       "      <th>0.092</th>\n",
       "      <td>10.6</td>\n",
       "      <td>0.9</td>\n",
       "      <td>2.1</td>\n",
       "      <td>1.2</td>\n",
       "      <td>0.2</td>\n",
       "      <td>1.6</td>\n",
       "    </tr>\n",
       "    <tr>\n",
       "      <th>0.096</th>\n",
       "      <td>9.9</td>\n",
       "      <td>0.9</td>\n",
       "      <td>2.0</td>\n",
       "      <td>1.2</td>\n",
       "      <td>0.2</td>\n",
       "      <td>1.6</td>\n",
       "    </tr>\n",
       "    <tr>\n",
       "      <th>0.100</th>\n",
       "      <td>9.4</td>\n",
       "      <td>1.0</td>\n",
       "      <td>1.9</td>\n",
       "      <td>1.1</td>\n",
       "      <td>0.2</td>\n",
       "      <td>1.6</td>\n",
       "    </tr>\n",
       "  </tbody>\n",
       "</table>\n",
       "</div>"
      ],
      "text/plain": [
       "       sparse 2%  sparse 5%  sparse 10%  sparse 20%  sparse 40%  dense\n",
       "eps                                                                   \n",
       "0.000       85.2       87.2        86.6        88.8        90.0   90.7\n",
       "0.004       75.8       72.7        70.1        73.1        74.5   75.7\n",
       "0.008       67.3       60.4        54.1        59.0        60.8   60.8\n",
       "0.012       58.4       48.1        43.0        47.0        47.1   47.4\n",
       "0.016       51.3       38.3        36.2        36.9        36.2   36.8\n",
       "0.020       45.9       27.7        29.8        28.5        28.3   27.2\n",
       "0.024       40.1       20.1        24.6        22.7        22.2   19.9\n",
       "0.028       36.7       14.8        21.5        18.2        17.0   15.7\n",
       "0.032       33.4       11.1        18.0        14.4        13.0   12.8\n",
       "0.036       29.6        9.2        15.8        11.6         9.3   10.4\n",
       "0.040       27.0        7.1        12.7         9.8         6.8    8.6\n",
       "0.044       25.0        5.5        10.7         8.0         4.3    6.2\n",
       "0.048       23.1        4.7         8.4         7.1         2.6    5.5\n",
       "0.052       21.3        3.4         7.1         6.1         1.9    5.1\n",
       "0.056       19.7        2.5         6.6         5.1         1.2    4.0\n",
       "0.060       18.1        2.0         5.7         4.2         0.9    3.0\n",
       "0.064       17.2        1.9         5.0         3.4         0.8    2.2\n",
       "0.068       15.7        1.8         4.1         2.9         0.5    1.9\n",
       "0.072       14.5        1.6         3.6         2.5         0.4    1.9\n",
       "0.076       13.3        1.3         3.4         1.8         0.3    1.8\n",
       "0.080       12.8        1.2         2.5         1.6         0.2    1.6\n",
       "0.084       11.8        1.0         2.2         1.2         0.2    1.5\n",
       "0.088       10.8        0.9         2.2         1.2         0.2    1.6\n",
       "0.092       10.6        0.9         2.1         1.2         0.2    1.6\n",
       "0.096        9.9        0.9         2.0         1.2         0.2    1.6\n",
       "0.100        9.4        1.0         1.9         1.1         0.2    1.6"
      ]
     },
     "execution_count": 25,
     "metadata": {},
     "output_type": "execute_result"
    }
   ],
   "source": [
    "df = pd.read_csv('../results/dense_multi_sparse_FGSM_attack.csv')\n",
    "df.set_index('eps', inplace=True)\n",
    "df"
   ]
  },
  {
   "cell_type": "code",
   "execution_count": null,
   "id": "44f2f8ac-eee4-4053-b351-db829378cdf1",
   "metadata": {},
   "outputs": [],
   "source": []
  },
  {
   "cell_type": "code",
   "execution_count": 26,
   "id": "9a09523345c15c",
   "metadata": {
    "ExecuteTime": {
     "end_time": "2024-01-15T18:57:19.506632Z",
     "start_time": "2024-01-15T18:57:18.750792Z"
    },
    "collapsed": false,
    "tags": []
   },
   "outputs": [
    {
     "ename": "TypeError",
     "evalue": "cannot unpack non-iterable int object",
     "output_type": "error",
     "traceback": [
      "\u001B[0;31m---------------------------------------------------------------------------\u001B[0m",
      "\u001B[0;31mTypeError\u001B[0m                                 Traceback (most recent call last)",
      "Cell \u001B[0;32mIn[26], line 11\u001B[0m\n\u001B[1;32m      9\u001B[0m \u001B[38;5;28;01mif\u001B[39;00m j \u001B[38;5;241m==\u001B[39m \u001B[38;5;241m0\u001B[39m:\n\u001B[1;32m     10\u001B[0m     plt\u001B[38;5;241m.\u001B[39mylabel(\u001B[38;5;124mf\u001B[39m\u001B[38;5;124m\"\u001B[39m\u001B[38;5;124mEps: \u001B[39m\u001B[38;5;132;01m{\u001B[39;00mepsilons[i]\u001B[38;5;132;01m}\u001B[39;00m\u001B[38;5;124m\"\u001B[39m, fontsize\u001B[38;5;241m=\u001B[39m\u001B[38;5;241m14\u001B[39m)\n\u001B[0;32m---> 11\u001B[0m orig,adv,ex \u001B[38;5;241m=\u001B[39m examples[i][j]\n\u001B[1;32m     12\u001B[0m plt\u001B[38;5;241m.\u001B[39mtitle(\u001B[38;5;124mf\u001B[39m\u001B[38;5;124m\"\u001B[39m\u001B[38;5;132;01m{\u001B[39;00morig\u001B[38;5;132;01m}\u001B[39;00m\u001B[38;5;124m -> \u001B[39m\u001B[38;5;132;01m{\u001B[39;00madv\u001B[38;5;132;01m}\u001B[39;00m\u001B[38;5;124m\"\u001B[39m)\n\u001B[1;32m     13\u001B[0m plt\u001B[38;5;241m.\u001B[39mimshow(ex, cmap\u001B[38;5;241m=\u001B[39m\u001B[38;5;124m\"\u001B[39m\u001B[38;5;124mgray\u001B[39m\u001B[38;5;124m\"\u001B[39m)\n",
      "\u001B[0;31mTypeError\u001B[0m: cannot unpack non-iterable int object"
     ]
    },
    {
     "data": {
      "image/png": "[encoded data removed]",
      "text/plain": [
       "<Figure size 800x1000 with 1 Axes>"
      ]
     },
     "metadata": {},
     "output_type": "display_data"
    }
   ],
   "source": [
    "cnt = 0\n",
    "plt.figure(figsize=(8,10))\n",
    "for i in range(len(epsilons)):\n",
    "    for j in range(len(ex[i])):\n",
    "        cnt += 1\n",
    "        plt.subplot(len(epsilons),len(ex[0]),cnt)\n",
    "        plt.xticks([], [])\n",
    "        plt.yticks([], [])\n",
    "        if j == 0:\n",
    "            plt.ylabel(f\"Eps: {epsilons[i]}\", fontsize=14)\n",
    "        orig,adv,ex = examples[i][j]\n",
    "        plt.title(f\"{orig} -> {adv}\")\n",
    "        plt.imshow(ex, cmap=\"gray\")\n",
    "plt.tight_layout()\n",
    "plt.show()"
   ]
  },
  {
   "cell_type": "code",
   "execution_count": 137,
   "id": "3f31dc08197cb4e1",
   "metadata": {
    "ExecuteTime": {
     "end_time": "2024-01-15T18:57:19.515075Z",
     "start_time": "2024-01-15T18:57:19.508592Z"
    },
    "collapsed": false
   },
   "outputs": [],
   "source": []
  }
 ],
 "metadata": {
  "kernelspec": {
   "display_name": "Python",
   "language": "python",
   "name": "python3"
  },
  "language_info": {
   "codemirror_mode": {
    "name": "ipython",
    "version": 3
   },
   "file_extension": ".py",
   "mimetype": "text/x-python",
   "name": "python",
   "nbconvert_exporter": "python",
   "pygments_lexer": "ipython3",
   "version": "3.8.10"
  }
 },
 "nbformat": 4,
 "nbformat_minor": 5
}
