{
 "cells": [
  {
   "cell_type": "code",
   "execution_count": 1,
   "id": "initial_id",
   "metadata": {
    "ExecuteTime": {
     "end_time": "2024-01-17T13:34:20.011977200Z",
     "start_time": "2024-01-17T13:34:13.329620700Z"
    },
    "collapsed": true,
    "jupyter": {
     "outputs_hidden": true
    }
   },
   "outputs": [],
   "source": [
    "# Various torch packages\n",
    "import torch\n",
    "import torch.nn as nn\n",
    "import torch.nn.functional as F\n",
    "\n",
    "# torchvision\n",
    "from torchvision import datasets, transforms\n",
    "\n",
    "# ------------------------\n",
    "# get up one directory \n",
    "import sys, os\n",
    "sys.path.append(os.path.abspath('../'))\n",
    "# ------------------------\n",
    "\n",
    "# custom packages\n",
    "import matplotlib.pyplot as plt\n",
    "import models.aux_funs as maf\n",
    "import optimizers as op\n",
    "import regularizers as reg\n",
    "import train\n",
    "import math\n",
    "import utils.configuration as cf\n",
    "import utils.datasets as ud\n",
    "import pandas as pd\n",
    "from models.mnist_conv import mnist_conv"
   ]
  },
  {
   "cell_type": "code",
   "execution_count": 2,
   "id": "83b6503c1b12b326",
   "metadata": {
    "ExecuteTime": {
     "end_time": "2024-01-17T13:34:22.885094600Z",
     "start_time": "2024-01-17T13:34:22.869457Z"
    },
    "collapsed": false,
    "jupyter": {
     "outputs_hidden": false
    }
   },
   "outputs": [],
   "source": [
    "random_seed = 2\n",
    "cf.seed_torch(random_seed)"
   ]
  },
  {
   "cell_type": "code",
   "execution_count": 5,
   "id": "68ca8ea39a093836",
   "metadata": {
    "ExecuteTime": {
     "end_time": "2024-01-17T13:36:10.032706600Z",
     "start_time": "2024-01-17T13:36:10.015817800Z"
    },
    "collapsed": false,
    "jupyter": {
     "outputs_hidden": false
    }
   },
   "outputs": [],
   "source": [
    "weights_path = '../checkpoints/mnist_conv_dense.pth'\n",
    "\n",
    "conf_args = {#\n",
    "    # data specification\n",
    "    'data_file':\"../../Data\",'train_split':0.95, 'data_set':\"Fashion-MNIST\", 'download':True,\n",
    "    # cuda\n",
    "    'use_cuda':False, 'num_workers':0, 'cuda_device':0, 'pin_memory':True,\n",
    "    #\n",
    "    'epochs':100,\n",
    "    # optimizer\n",
    "    'delta':1.0, 'lr':0.07, 'lamda_0':0.4, 'lamda_1':0.4, 'optim':\"AdaBreg\", 'conv_group':True,\n",
    "    'beta':0.0,\n",
    "    # initialization\n",
    "    'sparse_init':0.01, 'r':[1,1,1],\n",
    "    # misc\n",
    "    'random_seed':random_seed, 'eval_acc':True,\n",
    "    'batch_size': 1\n",
    "}\n",
    "\n",
    "conf = cf.Conf(**conf_args)"
   ]
  },
  {
   "cell_type": "code",
   "execution_count": 6,
   "id": "a6ea55c0824316c7",
   "metadata": {
    "ExecuteTime": {
     "end_time": "2024-01-17T13:36:10.801469100Z",
     "start_time": "2024-01-17T13:36:10.710122400Z"
    },
    "collapsed": false,
    "jupyter": {
     "outputs_hidden": false
    }
   },
   "outputs": [],
   "source": [
    "model_kwargs = {'mean':conf.data_set_mean, 'std':conf.data_set_std}    \n",
    "\n",
    "model = mnist_conv(**model_kwargs)\n",
    "\n",
    "model_weights = torch.load(weights_path)\n",
    "\n",
    "# Apply the weights\n",
    "model.load_state_dict(model_weights)\n",
    "model = model.to(conf.device)"
   ]
  },
  {
   "cell_type": "code",
   "execution_count": 7,
   "id": "3f4b8c41aa61a62",
   "metadata": {
    "ExecuteTime": {
     "end_time": "2024-01-17T13:36:25.862876800Z",
     "start_time": "2024-01-17T13:36:25.661404800Z"
    },
    "collapsed": false,
    "jupyter": {
     "outputs_hidden": false
    }
   },
   "outputs": [],
   "source": [
    "train_loader, valid_loader, test_loader = ud.get_data_set(conf)"
   ]
  },
  {
   "cell_type": "code",
   "execution_count": null,
   "id": "c6dbf7c37bdbe99e",
   "metadata": {
    "collapsed": false,
    "jupyter": {
     "outputs_hidden": false
    }
   },
   "outputs": [],
   "source": []
  }
 ],
 "metadata": {
  "kernelspec": {
   "display_name": "Python",
   "language": "python",
   "name": "python3"
  },
  "language_info": {
   "codemirror_mode": {
    "name": "ipython",
    "version": 3
   },
   "file_extension": ".py",
   "mimetype": "text/x-python",
   "name": "python",
   "nbconvert_exporter": "python",
   "pygments_lexer": "ipython3",
   "version": "3.8.10"
  }
 },
 "nbformat": 4,
 "nbformat_minor": 5
}
